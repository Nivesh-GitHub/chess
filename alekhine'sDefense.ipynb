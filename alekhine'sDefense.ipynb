#Alekhine's Defense
board = chess.Board()
board.push_san("e4")
board.push_san("Nf6")


board
