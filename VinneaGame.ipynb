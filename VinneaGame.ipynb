#Vienna Game
board = chess.Board()
board.push_san("e4")
board.push_san("e5")
board.push_san("Nc3")


board
