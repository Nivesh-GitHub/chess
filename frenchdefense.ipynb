#French Defense
board = chess.Board()
board.push_san("e4")
board.push_san("e6")

board
