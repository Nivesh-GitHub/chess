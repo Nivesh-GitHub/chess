#Sicilian Defense: Alapin Variation
board = chess.Board()
board.push_san("e4")
board.push_san("c5")
board.push_san("c3")

board
